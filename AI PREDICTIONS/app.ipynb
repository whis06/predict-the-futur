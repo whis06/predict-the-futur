{
 "cells": [
  {
   "cell_type": "code",
   "execution_count": 1,
   "id": "ea2e02aa-550e-4eb1-9cd6-2b57b91b6773",
   "metadata": {},
   "outputs": [
    {
     "name": "stdout",
     "output_type": "stream",
     "text": [
      " * Serving Flask app '__main__'\n",
      " * Debug mode: on\n"
     ]
    },
    {
     "name": "stderr",
     "output_type": "stream",
     "text": [
      "WARNING: This is a development server. Do not use it in a production deployment. Use a production WSGI server instead.\n",
      " * Running on http://127.0.0.1:5000\n",
      "Press CTRL+C to quit\n",
      " * Restarting with watchdog (windowsapi)\n"
     ]
    },
    {
     "ename": "SystemExit",
     "evalue": "1",
     "output_type": "error",
     "traceback": [
      "An exception has occurred, use %tb to see the full traceback.\n",
      "\u001b[1;31mSystemExit\u001b[0m\u001b[1;31m:\u001b[0m 1\n"
     ]
    },
    {
     "name": "stderr",
     "output_type": "stream",
     "text": [
      "C:\\Users\\msi\\anaconda3\\Lib\\site-packages\\IPython\\core\\interactiveshell.py:3585: UserWarning: To exit: use 'exit', 'quit', or Ctrl-D.\n",
      "  warn(\"To exit: use 'exit', 'quit', or Ctrl-D.\", stacklevel=1)\n"
     ]
    }
   ],
   "source": [
    "from flask import Flask, render_template, request\n",
    "import pandas as pd\n",
    "import numpy as np\n",
    "from sklearn.ensemble import RandomForestClassifier\n",
    "from sklearn.model_selection import train_test_split\n",
    "from sklearn.metrics import classification_report\n",
    "import yfinance as yf\n",
    "\n",
    "# Initialize Flask app\n",
    "app = Flask(__name__)\n",
    "\n",
    "# Step 1: Data Collection\n",
    "def get_data(symbol, start, end):\n",
    "    df = yf.download(symbol, start=start, end=end)\n",
    "    return df\n",
    "\n",
    "# Step 2: Feature Engineering\n",
    "def create_features(df):\n",
    "    df['Price_Change'] = df['Close'].shift(-1) - df['Close']\n",
    "    df['Target'] = np.where(df['Price_Change'] > 0, 1, 0)\n",
    "    df['SMA_5'] = df['Close'].rolling(window=5).mean()\n",
    "    df['SMA_10'] = df['Close'].rolling(window=10).mean()\n",
    "    df['Volatility'] = df['Close'].rolling(window=5).std()\n",
    "    df.dropna(inplace=True)\n",
    "    return df[['Close', 'SMA_5', 'SMA_10', 'Volatility', 'Target']]\n",
    "\n",
    "# Step 3: Model Training\n",
    "def train_model(df):\n",
    "    X = df[['Close', 'SMA_5', 'SMA_10', 'Volatility']]\n",
    "    y = df['Target']\n",
    "    X_train, X_test, y_train, y_test = train_test_split(X, y, test_size=0.2, random_state=42)\n",
    "    model = RandomForestClassifier(n_estimators=100)\n",
    "    model.fit(X_train, y_train)\n",
    "    return model, X_test, y_test\n",
    "\n",
    "# Flask Routes\n",
    "@app.route('/')\n",
    "def home():\n",
    "    return render_template('index.html')\n",
    "\n",
    "@app.route('/predict', methods=['POST'])\n",
    "def predict():\n",
    "    # Get user input from the form\n",
    "    symbol = request.form['symbol']\n",
    "    start_date = request.form['start_date']\n",
    "    end_date = request.form['end_date']\n",
    "\n",
    "    # Fetch and process data\n",
    "    data = get_data(symbol, start_date, end_date)\n",
    "    features = create_features(data)\n",
    "\n",
    "    # Train model\n",
    "    model, X_test, y_test = train_model(features)\n",
    "\n",
    "    # Predict the latest movement\n",
    "    latest_data = features.tail(1).drop(columns=['Target'])  # Ensure only features are used\n",
    "    prediction = model.predict(latest_data)\n",
    "\n",
    "    # Prepare prediction result\n",
    "    result = 'Up' if prediction[0] == 1 else 'Down'\n",
    "\n",
    "    return render_template('result.html', symbol=symbol, result=result)\n",
    "\n",
    "# Run Flask app\n",
    "if __name__ == \"__main__\":\n",
    "    app.run(debug=True)"
   ]
  },
  {
   "cell_type": "code",
   "execution_count": null,
   "id": "2cf02a4d-6842-4c0b-82fc-b47d865beee1",
   "metadata": {},
   "outputs": [],
   "source": []
  }
 ],
 "metadata": {
  "kernelspec": {
   "display_name": "Python 3 (ipykernel)",
   "language": "python",
   "name": "python3"
  },
  "language_info": {
   "codemirror_mode": {
    "name": "ipython",
    "version": 3
   },
   "file_extension": ".py",
   "mimetype": "text/x-python",
   "name": "python",
   "nbconvert_exporter": "python",
   "pygments_lexer": "ipython3",
   "version": "3.12.4"
  }
 },
 "nbformat": 4,
 "nbformat_minor": 5
}
